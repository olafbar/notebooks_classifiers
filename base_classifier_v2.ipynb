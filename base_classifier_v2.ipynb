{
 "cells": [
  {
   "cell_type": "code",
   "execution_count": 45,
   "metadata": {
    "colab": {
     "base_uri": "https://localhost:8080/"
    },
    "id": "cqLtleCXx2nI",
    "outputId": "c19bc40f-1192-4dba-cb12-dea057b5f720"
   },
   "outputs": [
    {
     "name": "stdout",
     "output_type": "stream",
     "text": [
      "2.5.0\n"
     ]
    }
   ],
   "source": [
    "import tensorflow as tf\n",
    "\n",
    "print(tf.keras.__version__)"
   ]
  },
  {
   "cell_type": "code",
   "execution_count": 46,
   "metadata": {
    "id": "rovR4Odrx2nM"
   },
   "outputs": [],
   "source": [
    "import os\n",
    "! git clone https://github.com/olafbar/classifiers.git\n"
   ]
  },
  {
   "cell_type": "code",
   "execution_count": 48,
   "metadata": {
    "colab": {
     "base_uri": "https://localhost:8080/"
    },
    "id": "cKf11NTNOdwD",
    "outputId": "f001c296-1248-4372-f437-3a7db6114cf2"
   },
   "outputs": [
    {
     "name": "stdout",
     "output_type": "stream",
     "text": [
      "https://user.credo.science/user-interface/download/images/download.php?name=26.zip -O 26.zip\n"
     ]
    },
    {
     "data": {
      "text/plain": [
       "0"
      ]
     },
     "execution_count": 48,
     "metadata": {
      "tags": []
     },
     "output_type": "execute_result"
    }
   ],
   "source": [
    "#########################################################################  \n",
    "classifier='baseline'  #nazwa klasyfikatora\n",
    "## baseline, baseline_knn, baseline_rf\n",
    "\n",
    "dir='42'  # nazwa katalogu z obrazkami ANDROID (2 cyfry)\n",
    "# url dla ANDROID\n",
    "url='https://user.credo.science/user-interface/download/images/download.php?name='+dir+'.zip -O '+dir+'.zip'\n",
    "#########################################################################\n",
    "# dir='001'  # nazwa katalogu z obrazkami dla IOS (3 cyfry)\n",
    "# #url dla IOS\n",
    "# url='https://user.credo.science/user-interface/download/images_ios/download.php?name='+dir+'.zip -O '+dir+'.zip'\n",
    "\n",
    "print(url)\n",
    "os.system('wget %s' %url)\n",
    "par=dir+' -d '+dir\n",
    "os.system('unzip %s' %par)"
   ]
  },
  {
   "cell_type": "code",
   "execution_count": 49,
   "metadata": {
    "id": "wyIbXFpSOOo_"
   },
   "outputs": [],
   "source": [
    "import cv2\n",
    "import glob\n",
    "images=[]\n",
    "list_images_name=[]\n",
    "for img in glob.glob(dir+\"/*.png\"):\n",
    "    n = cv2.imread(img)\n",
    "    img = img.split('/')\n",
    "    list_images_name.append(img[1])\n",
    "    images.append(n)"
   ]
  },
  {
   "cell_type": "code",
   "execution_count": 50,
   "metadata": {
    "id": "VV7c6p4Ox2nO"
   },
   "outputs": [],
   "source": [
    "def preprocessData(data, verbose=True):\n",
    "\n",
    "  # import mahotas\n",
    "  import numpy as np\n",
    "\n",
    "  # print(wavelets)\n",
    "\n",
    "  images = data\n",
    "\n",
    "  features = []\n",
    "  bl_images = []\n",
    "  th_images = []\n",
    "\n",
    "  for img in images:\n",
    "\n",
    "    img = img.astype('int32')\n",
    "\n",
    "    blackwhite=img[:,:,0]+img[:,:,1]+img[:,:,2]\n",
    "    # bl_images.append(blackwhite.copy())\n",
    "\n",
    "    threshold = blackwhite.mean() + blackwhite.std() * 5\n",
    "    threshold = threshold if threshold < 100 else 100 \n",
    "\n",
    "    mask = np.where(blackwhite > threshold, 1, 0)\n",
    "    blackwhite = blackwhite * mask\n",
    "    \n",
    "    # feature #1\n",
    "    num_pixels_over_th = np.sum(mask)\n",
    "\n",
    "    # feature #2\n",
    "    total_luminosity_over_th = np.sum(blackwhite)\n",
    "\n",
    "    out = (num_pixels_over_th,total_luminosity_over_th)\n",
    "    features.append(out)\n",
    "\n",
    "  feature_array = np.array(features)\n",
    "\n",
    "  if verbose:\n",
    "    print(feature_array.shape)\n",
    "    \n",
    "\n",
    "  return (feature_array)\n"
   ]
  },
  {
   "cell_type": "code",
   "execution_count": 51,
   "metadata": {
    "colab": {
     "base_uri": "https://localhost:8080/"
    },
    "id": "gNB9lRkHx2nO",
    "outputId": "2d3623e2-1fbb-4e69-f0b0-fe0da469a56b"
   },
   "outputs": [
    {
     "name": "stdout",
     "output_type": "stream",
     "text": [
      "(40000, 2)\n"
     ]
    }
   ],
   "source": [
    "feature_array = preprocessData(data=(images))"
   ]
  },
  {
   "cell_type": "code",
   "execution_count": 52,
   "metadata": {
    "id": "vOakvQODx2nP"
   },
   "outputs": [],
   "source": [
    "from sklearn.base import BaseEstimator\n",
    "from sklearn.base import ClassifierMixin\n",
    "import numpy as np\n",
    "\n",
    "class BaseTrigger(BaseEstimator,ClassifierMixin):\n",
    "    def __init__(self):\n",
    "        pass\n",
    "        \n",
    "    def fit(self, X, y):\n",
    "#         compute minimal luminosity for artefacts and maximal luminosity for signals\n",
    "#         compute minimal pix_count for artefacts and maximal pix_count for signals\n",
    "        self.min_pixcount_arte_=X[:,0].max()\n",
    "        self.min_lum_arte_=X[:,1].max()\n",
    "        self.max_pixcount_sig_=X[:,0].min()\n",
    "        self.max_lum_sig_=X[:,1].min()\n",
    "        print(\"{} {} {} {}\\n\".format(self.min_pixcount_arte_,self.min_lum_arte_,self.max_pixcount_sig_,self.max_lum_sig_))\n",
    "        for features,label in zip(X,y):\n",
    "            pix_count=features[0,]\n",
    "            lum=features[1,]\n",
    "            if label==0 : #signal\n",
    "                if pix_count>self.max_pixcount_sig_:\n",
    "                    self.max_pixcount_sig_=pix_count\n",
    "                if lum>self.max_lum_sig_:\n",
    "                    self.max_lum_sig_=lum\n",
    "            else:\n",
    "                if pix_count<self.min_pixcount_arte_:\n",
    "                    self.min_pixcount_arte_=pix_count\n",
    "                if lum<self.min_lum_arte_:    \n",
    "                    self.min_lum_arte_=lum\n",
    "                    \n",
    "        print(\"{} {} {} {}\".format(self.min_pixcount_arte_,self.min_lum_arte_,self.max_pixcount_sig_,self.max_lum_sig_))    \n",
    "        self.border_lum_=(self.min_lum_arte_+self.max_lum_sig_)/2\n",
    "        self.border_pixcount_=(self.min_pixcount_arte_+self.max_pixcount_sig_)/2\n",
    "        return self\n",
    "    \n",
    "    def predict(self, X):\n",
    "        Y=np.zeros(X.shape[0])\n",
    "        for i in range(X.shape[0]):\n",
    "            pix_count=X[i,0]\n",
    "            # pix_count=0\n",
    "            lum=X[i,1]\n",
    "            if ((pix_count/self.border_pixcount_)**2+(lum/self.border_lum_)**2<=1):\n",
    "                Y[i]=0\n",
    "            else:    \n",
    "                Y[i]=1\n",
    "        return Y \n",
    "    \n",
    "#     this method probably is not mandatory\n",
    "#     def predict_proba(self, X):\n",
    "#         pred = np.random.rand(X.shape[0], self.classes_.size)\n",
    "#         return pred / np.sum(pred, axis=1)[:, np.newaxis]"
   ]
  },
  {
   "cell_type": "code",
   "execution_count": 53,
   "metadata": {
    "id": "fiLJ6T6sx2nQ"
   },
   "outputs": [],
   "source": [
    "#input=zip(feature_array, label_array)\n"
   ]
  },
  {
   "cell_type": "code",
   "execution_count": 54,
   "metadata": {
    "id": "Nqrs_tOGx2nQ"
   },
   "outputs": [],
   "source": [
    "# from sklearn.utils.estimator_checks import check_estimator\n",
    "# check_estimator(BaseTrigger())"
   ]
  },
  {
   "cell_type": "code",
   "execution_count": 55,
   "metadata": {
    "id": "DNI7r0TGPbU6"
   },
   "outputs": [],
   "source": [
    "from joblib import dump, load\n",
    "pkl_filename='classifiers/'+classifier+'.pkl'\n",
    "# print(scaler_filename)\n",
    "clf1=load(pkl_filename)\n"
   ]
  },
  {
   "cell_type": "code",
   "execution_count": 56,
   "metadata": {
    "id": "nfJ4d0SfPyqQ"
   },
   "outputs": [],
   "source": [
    "y_pred2 = clf1.predict(feature_array)"
   ]
  },
  {
   "cell_type": "code",
   "execution_count": 57,
   "metadata": {
    "colab": {
     "base_uri": "https://localhost:8080/"
    },
    "id": "5VceGy4QQHxx",
    "outputId": "6c162922-a6f1-48b3-ba53-6557b7df0355"
   },
   "outputs": [
    {
     "name": "stdout",
     "output_type": "stream",
     "text": [
      "0 39610\n",
      "1 390\n"
     ]
    }
   ],
   "source": [
    "for i in range(2):\n",
    "    count = sum(map(lambda x : x==i, y_pred2))\n",
    "    print(i,count)"
   ]
  },
  {
   "cell_type": "code",
   "execution_count": 58,
   "metadata": {
    "id": "AJn8tuBYQQWE"
   },
   "outputs": [],
   "source": [
    "classifiers=[classifier for x in range(len(y_pred2))]\n",
    "import pandas as pd\n",
    "df = pd.DataFrame({\n",
    "    'Classifier': classifiers,\n",
    "    'Hit ID': list_images_name,\n",
    "    'Class': y_pred2\n",
    "})"
   ]
  },
  {
   "cell_type": "code",
   "execution_count": 59,
   "metadata": {
    "id": "jOATSZfOQVsR"
   },
   "outputs": [],
   "source": [
    "df.to_csv(classifier+'_'+dir+'.csv', index=False)"
   ]
  },
  {
   "cell_type": "code",
   "execution_count": 60,
   "metadata": {
    "colab": {
     "base_uri": "https://localhost:8080/"
    },
    "id": "nLwFa8JqQYRQ",
    "outputId": "c7046cda-1e7d-4c78-9c75-4f5b2262c620"
   },
   "outputs": [
    {
     "name": "stdout",
     "output_type": "stream",
     "text": [
      "        Classifier        Hit ID  Class\n",
      "0      baseline_rf  16065587.png      0\n",
      "1      baseline_rf  10989912.png      0\n",
      "2      baseline_rf   7511525.png      0\n",
      "3      baseline_rf  13293418.png      0\n",
      "4      baseline_rf  12791739.png      0\n",
      "...            ...           ...    ...\n",
      "39995  baseline_rf  12800355.png      0\n",
      "39996  baseline_rf   9579108.png      0\n",
      "39997  baseline_rf  16056679.png      0\n",
      "39998  baseline_rf  10375094.png      0\n",
      "39999  baseline_rf  10358282.png      0\n",
      "\n",
      "[39610 rows x 3 columns]\n"
     ]
    }
   ],
   "source": [
    "print(df.loc[df['Class'] == 0])"
   ]
  },
  {
   "cell_type": "code",
   "execution_count": 61,
   "metadata": {
    "colab": {
     "base_uri": "https://localhost:8080/",
     "height": 285
    },
    "id": "F9fn9vYXx2nU",
    "outputId": "6aa1709e-2c94-4239-bfe3-2f9bfe94abdb"
   },
   "outputs": [
    {
     "data": {
      "text/plain": [
       "<matplotlib.image.AxesImage at 0x7efc9ec90d10>"
      ]
     },
     "execution_count": 61,
     "metadata": {
      "tags": []
     },
     "output_type": "execute_result"
    },
    {
     "data": {
      "image/png": "[encoded data removed]",
      "text/plain": [
       "<Figure size 432x288 with 1 Axes>"
      ]
     },
     "metadata": {
      "needs_background": "light",
      "tags": []
     },
     "output_type": "display_data"
    }
   ],
   "source": [
    "from matplotlib import pyplot as plt\n",
    "plt.figure()\n",
    "plt.imshow(images[10])"
   ]
  },
  {
   "cell_type": "code",
   "execution_count": 61,
   "metadata": {
    "id": "oAtEdwbuDCJs"
   },
   "outputs": [],
   "source": []
  }
 ],
 "metadata": {
  "colab": {
   "collapsed_sections": [],
   "name": "base_classifier_v2.ipynb",
   "provenance": []
  },
  "kernelspec": {
   "display_name": "Python 3",
   "language": "python",
   "name": "python3"
  },
  "language_info": {
   "codemirror_mode": {
    "name": "ipython",
    "version": 3
   },
   "file_extension": ".py",
   "mimetype": "text/x-python",
   "name": "python",
   "nbconvert_exporter": "python",
   "pygments_lexer": "ipython3",
   "version": "3.8.5"
  }
 },
 "nbformat": 4,
 "nbformat_minor": 1
}
