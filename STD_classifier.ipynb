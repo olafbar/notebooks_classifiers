{
 "cells": [
  {
   "cell_type": "code",
   "execution_count": null,
   "metadata": {
    "id": "Ei6htSY5jvNG"
   },
   "outputs": [],
   "source": [
    "# import os\n",
    "# ! git clone https://github.com/olafbar/classifiers.git\n",
    "# ! pip install mahotas"
   ]
  },
  {
   "cell_type": "code",
   "execution_count": null,
   "metadata": {
    "colab": {
     "base_uri": "https://localhost:8080/"
    },
    "id": "KUibXsB1JJAP",
    "outputId": "f53e838b-acb4-4467-93a8-74b57d2a82b6"
   },
   "outputs": [
    {
     "name": "stdout",
     "output_type": "stream",
     "text": [
      "https://user.credo.science/user-interface/download/images/download.php?name=42.zip -O 42.zip\n"
     ]
    },
    {
     "data": {
      "text/plain": [
       "0"
      ]
     },
     "execution_count": 111,
     "metadata": {
      "tags": []
     },
     "output_type": "execute_result"
    }
   ],
   "source": [
    "#########################################################################  \n",
    "classifier='etc'  #nazwa klasyfikatora\n",
    "## etc,bagsvc,gbc,rf,vot,mlp,nsv,svm,knn,ovo_mlp, ovo_svm, ovr_mlp\n",
    "dir='42'  # nazwa katalogu z obrazkami ANDROID (2 cyfry)\n",
    "# url dla ANDROID\n",
    "url='https://user.credo.science/user-interface/download/images/download.php?name='+dir+'.zip -O '+dir+'.zip'\n",
    "#########################################################################\n",
    "# dir='001'  # nazwa katalogu z obrazkami dla IOS (3 cyfry)\n",
    "# #url dla IOS\n",
    "# url='https://user.credo.science/user-interface/download/images_ios/download.php?name='+dir+'.zip -O '+dir+'.zip'\n",
    "\n",
    "print(url)\n",
    "os.system('wget %s' %url)\n",
    "par=dir+' -d '+dir\n",
    "os.system('unzip %s' %par)\n",
    "\n"
   ]
  },
  {
   "cell_type": "code",
   "execution_count": null,
   "metadata": {
    "id": "Wgd7eqowO5HJ"
   },
   "outputs": [],
   "source": [
    "import cv2\n",
    "import glob\n",
    "\n",
    "images=[]\n",
    "list_images_name=[]\n",
    "for img in glob.glob(dir+\"/*.png\"):\n",
    "    n = cv2.imread(img)\n",
    "    img = img.split('/')\n",
    "    list_images_name.append(img[1])\n",
    "    images.append(n)"
   ]
  },
  {
   "cell_type": "code",
   "execution_count": null,
   "metadata": {
    "id": "aFezwb-vPfij"
   },
   "outputs": [],
   "source": [
    "import mahotas\n",
    "import numpy as np\n",
    "rows , cols, _ =images[0].shape\n",
    "radius=np.sqrt((rows/2)**2+(cols/2.)**2)\n",
    "features2 =[]\n",
    "for img in images:\n",
    "  blackwhite=img[:,:,0]+img[:,:,1]+img[:,:,2]\n",
    "  threshold = blackwhite.mean() + blackwhite.std() * 5\n",
    "  threshold = threshold if threshold < 100 else 100  \n",
    "  mask = np.where(blackwhite > threshold, 1, 0)\n",
    "  blackwhite = blackwhite * mask\n",
    "  zm = mahotas.features.zernike_moments(blackwhite, radius, degree=8, cm=(rows/2., cols/2.))\n",
    "  zm = np.hstack([zm, blackwhite.mean()])\n",
    "  features2.append(zm)\n",
    "feature_array2=np.array(features2)"
   ]
  },
  {
   "cell_type": "code",
   "execution_count": null,
   "metadata": {
    "id": "y9SVT33kPrmd"
   },
   "outputs": [],
   "source": [
    "import pickle\n",
    "\n",
    "from joblib import dump, load\n",
    "pkl_filename='classifiers/'+classifier+'.pkl'\n",
    "scaler_filename='classifiers/'+classifier+'_scaler.pkl'\n",
    "# print(scaler_filename)\n",
    "clf1=load(pkl_filename)\n",
    "scaler2=load(scaler_filename)"
   ]
  },
  {
   "cell_type": "code",
   "execution_count": null,
   "metadata": {
    "id": "Zvns3oFuP5HY"
   },
   "outputs": [],
   "source": [
    "X_std2 = scaler2.transform(feature_array2)\n",
    "y_pred2 = clf1.predict(X_std2)"
   ]
  },
  {
   "cell_type": "code",
   "execution_count": null,
   "metadata": {
    "colab": {
     "base_uri": "https://localhost:8080/"
    },
    "id": "CJJ7dsN7U3dV",
    "outputId": "32359723-0420-4e59-d1b2-987116f09831"
   },
   "outputs": [
    {
     "name": "stdout",
     "output_type": "stream",
     "text": [
      "0 5141\n",
      "1 7804\n",
      "2 16694\n",
      "3 10361\n"
     ]
    }
   ],
   "source": [
    "for i in range(4):\n",
    "    count = sum(map(lambda x : x==i, y_pred2))\n",
    "    print(i,count)"
   ]
  },
  {
   "cell_type": "code",
   "execution_count": null,
   "metadata": {
    "id": "y-LZUFWQU85a"
   },
   "outputs": [],
   "source": [
    "classifiers=[classifier for x in range(len(y_pred2))]\n",
    "import pandas as pd\n",
    "df = pd.DataFrame({\n",
    "    'Classifier': classifiers,\n",
    "    'Hit ID': list_images_name,\n",
    "    'Class': y_pred2\n",
    "})"
   ]
  },
  {
   "cell_type": "code",
   "execution_count": null,
   "metadata": {
    "id": "8iAs1dJ1VQ1i"
   },
   "outputs": [],
   "source": [
    "df.to_csv(classifier+'_'+dir+'.csv', index=False)"
   ]
  },
  {
   "cell_type": "code",
   "execution_count": null,
   "metadata": {
    "id": "D1MdlHHPVTEz"
   },
   "outputs": [],
   "source": [
    "print(df.loc[df['Class'] == 2])"
   ]
  },
  {
   "cell_type": "code",
   "execution_count": null,
   "metadata": {
    "id": "b8TShxD9ZnWe"
   },
   "outputs": [],
   "source": [
    "list_images_name[39998]"
   ]
  },
  {
   "cell_type": "code",
   "execution_count": null,
   "metadata": {
    "id": "8Hnz69KWaCRc"
   },
   "outputs": [],
   "source": [
    "from matplotlib import pyplot as plt\n",
    "plt.figure()\n",
    "plt.imshow(images[39998])"
   ]
  },
  {
   "cell_type": "code",
   "execution_count": null,
   "metadata": {
    "id": "KeEHElhHab8Z"
   },
   "outputs": [],
   "source": []
  }
 ],
 "metadata": {
  "colab": {
   "name": "class.ipynb",
   "provenance": []
  },
  "kernelspec": {
   "display_name": "Python 3",
   "language": "python",
   "name": "python3"
  },
  "language_info": {
   "codemirror_mode": {
    "name": "ipython",
    "version": 3
   },
   "file_extension": ".py",
   "mimetype": "text/x-python",
   "name": "python",
   "nbconvert_exporter": "python",
   "pygments_lexer": "ipython3",
   "version": "3.8.5"
  }
 },
 "nbformat": 4,
 "nbformat_minor": 1
}
