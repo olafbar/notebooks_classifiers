{
  "nbformat": 4,
  "nbformat_minor": 0,
  "metadata": {
    "colab": {
      "name": "CNN_classifier.ipynb",
      "provenance": [],
      "collapsed_sections": []
    },
    "kernelspec": {
      "name": "python3",
      "display_name": "Python 3"
    },
    "language_info": {
      "name": "python"
    },
    "accelerator": "GPU"
  },
  "cells": [
    {
      "cell_type": "code",
      "metadata": {
        "id": "Ei6htSY5jvNG",
        "colab": {
          "base_uri": "https://localhost:8080/"
        },
        "outputId": "41d22dfb-29f2-436a-a4d7-9bf8a847a4a4"
      },
      "source": [
        "import os\n",
        "! git clone https://github.com/olafbar/classifiers.git\n",
        "! pip install mahotas\n"
      ],
      "execution_count": null,
      "outputs": [
        {
          "output_type": "stream",
          "text": [
            "Cloning into 'classifiers'...\n",
            "remote: Enumerating objects: 26, done.\u001b[K\n",
            "remote: Counting objects: 100% (26/26), done.\u001b[K\n",
            "remote: Compressing objects: 100% (26/26), done.\u001b[K\n",
            "remote: Total 26 (delta 7), reused 0 (delta 0), pack-reused 0\u001b[K\n",
            "Unpacking objects: 100% (26/26), done.\n",
            "Collecting mahotas\n",
            "\u001b[?25l  Downloading https://files.pythonhosted.org/packages/19/ad/553b246b0a35dccc3ed58dc8889a67124bf5ab858e9c6b7255d56086e70c/mahotas-1.4.11-cp37-cp37m-manylinux2010_x86_64.whl (5.7MB)\n",
            "\u001b[K     |████████████████████████████████| 5.7MB 25.0MB/s \n",
            "\u001b[?25hRequirement already satisfied: numpy in /usr/local/lib/python3.7/dist-packages (from mahotas) (1.19.5)\n",
            "Installing collected packages: mahotas\n",
            "Successfully installed mahotas-1.4.11\n"
          ],
          "name": "stdout"
        }
      ]
    },
    {
      "cell_type": "code",
      "metadata": {
        "colab": {
          "base_uri": "https://localhost:8080/"
        },
        "id": "CTEpbSzY8t4h",
        "outputId": "beca8586-64b0-4697-e1b1-1271046e6ed6"
      },
      "source": [
        "import tensorflow as tf\n",
        "\n",
        "print(tf.keras.__version__)"
      ],
      "execution_count": null,
      "outputs": [
        {
          "output_type": "stream",
          "text": [
            "2.5.0\n"
          ],
          "name": "stdout"
        }
      ]
    },
    {
      "cell_type": "code",
      "metadata": {
        "colab": {
          "base_uri": "https://localhost:8080/"
        },
        "id": "KUibXsB1JJAP",
        "outputId": "bc609adb-a8ed-42a9-8b9e-12b2d1a9e9d6"
      },
      "source": [
        "import os\n",
        "#########################################################################  \n",
        "dir='15'  # nazwa katalogu z obrazkami\n",
        "classifier='CNN_small_raw'  #nazwa klasyfikatora\n",
        "falki=('raw',)\n",
        "# falki=(0,)  #odpowiedni zbiór falek\n",
        "# falki=(2,)\n",
        "# falki=(20,)\n",
        "# falki=(2,4,6,8,10,12,14,16,18,20,)  # dla w_2_20\n",
        "## CNN_small_w0,CNN_small_w2,CNN_small_w20,CNN_small_w2_20,CNN_small_raw,CNN_big_raw\n",
        "#########################################################################\n",
        "url='https://user.credo.science/user-interface/download/images/download.php?name='+dir+'.zip -O '+dir+'.zip'\n",
        "print(url)\n",
        "os.system('wget %s' %url)\n",
        "par=dir+' -d '+dir\n",
        "os.system('unzip %s' %par)\n",
        "\n"
      ],
      "execution_count": null,
      "outputs": [
        {
          "output_type": "stream",
          "text": [
            "https://user.credo.science/user-interface/download/images/download.php?name=15.zip -O 15.zip\n"
          ],
          "name": "stdout"
        },
        {
          "output_type": "execute_result",
          "data": {
            "text/plain": [
              "0"
            ]
          },
          "metadata": {
            "tags": []
          },
          "execution_count": 3
        }
      ]
    },
    {
      "cell_type": "code",
      "metadata": {
        "id": "Wgd7eqowO5HJ"
      },
      "source": [
        "import cv2\n",
        "import glob\n",
        "images=[]\n",
        "list_images_name=[]\n",
        "for img in glob.glob(dir+\"/*.png\"):\n",
        "    n = cv2.imread(img)\n",
        "    img = img.split('/')\n",
        "    list_images_name.append(img[1])\n",
        "    images.append(n)"
      ],
      "execution_count": null,
      "outputs": []
    },
    {
      "cell_type": "code",
      "metadata": {
        "id": "vAQzZ7aYuQS_"
      },
      "source": [
        "def preprocessData(data, wavelets=(2,), verbose=True):\n",
        "\n",
        "  import mahotas\n",
        "  import numpy as np\n",
        "\n",
        "  print(wavelets)\n",
        "\n",
        "  images = data\n",
        "\n",
        "  features = []\n",
        "  bl_images = []\n",
        "  th_images = []\n",
        "\n",
        "  for img in images:\n",
        "\n",
        "    img = img.astype('int32')\n",
        "\n",
        "    blackwhite=img[:,:,0]+img[:,:,1]+img[:,:,2]\n",
        "    bl_images.append(blackwhite.copy())\n",
        "\n",
        "    threshold = blackwhite.mean() + blackwhite.std() * 5\n",
        "    threshold = threshold if threshold < 100 else 100  \n",
        "\n",
        "    mask = np.where(blackwhite > threshold, 1, 0)\n",
        "    blackwhite = blackwhite * mask\n",
        "\n",
        "    th_images.append(blackwhite.copy())\n",
        "\n",
        "\n",
        "    # Transform using Dx Wavelets to obtain transformed images\n",
        "\n",
        "    layers = {\n",
        "      'raw':img.reshape(60,60,3),  \n",
        "      0: blackwhite.reshape(60,60,1),\n",
        "      2: mahotas.daubechies(blackwhite,'D2').reshape(60,60,1),\n",
        "      4: mahotas.daubechies(blackwhite,'D4').reshape(60,60,1),\n",
        "      6: mahotas.daubechies(blackwhite,'D6').reshape(60,60,1),\n",
        "      8: mahotas.daubechies(blackwhite,'D8').reshape(60,60,1),\n",
        "      10: mahotas.daubechies(blackwhite,'D10').reshape(60,60,1),\n",
        "      12: mahotas.daubechies(blackwhite,'D12').reshape(60,60,1),\n",
        "      14: mahotas.daubechies(blackwhite,'D14').reshape(60,60,1),\n",
        "      16: mahotas.daubechies(blackwhite,'D16').reshape(60,60,1),\n",
        "      18: mahotas.daubechies(blackwhite,'D18').reshape(60,60,1),\n",
        "      20: mahotas.daubechies(blackwhite,'D20').reshape(60,60,1)\n",
        "    }\n",
        "\n",
        "    # tt = np.concatenate((t02, t04, t06, t08), axis=2)\n",
        "    out = np.concatenate(tuple(map(layers.__getitem__, wavelets)), axis=2)\n",
        "\n",
        "    features.append(out)\n",
        "\n",
        "  feature_array = np.array(features)\n",
        "\n",
        "  if verbose:\n",
        "    print(feature_array.shape)\n",
        "   \n",
        "\n",
        "  return (feature_array)\n"
      ],
      "execution_count": null,
      "outputs": []
    },
    {
      "cell_type": "code",
      "metadata": {
        "colab": {
          "base_uri": "https://localhost:8080/"
        },
        "id": "OCZ8Lb1F6FLV",
        "outputId": "95024990-94f8-4f93-bf5a-ef550f5f1cfd"
      },
      "source": [
        "feature_array = preprocessData(data=(images), wavelets=falki)\n"
      ],
      "execution_count": null,
      "outputs": [
        {
          "output_type": "stream",
          "text": [
            "('raw',)\n",
            "(40000, 60, 60, 3)\n"
          ],
          "name": "stdout"
        }
      ]
    },
    {
      "cell_type": "code",
      "metadata": {
        "id": "dIwQI2yh75JO"
      },
      "source": [
        "from keras.models import load_model\n",
        "model = load_model('classifiers/'+classifier+'.h5')\n"
      ],
      "execution_count": null,
      "outputs": []
    },
    {
      "cell_type": "code",
      "metadata": {
        "id": "ELGu5Qsg8M0_"
      },
      "source": [
        "import numpy as np\n",
        "y_pred2 = np.argmax(model.predict(feature_array),axis=1)\n"
      ],
      "execution_count": null,
      "outputs": []
    },
    {
      "cell_type": "code",
      "metadata": {
        "colab": {
          "base_uri": "https://localhost:8080/"
        },
        "id": "CJJ7dsN7U3dV",
        "outputId": "a823bd2d-afd5-4309-f1f8-63a1ddf8ccdf"
      },
      "source": [
        "for i in range(2):\n",
        "    count = sum(map(lambda x : x==i, y_pred2))\n",
        "    print(i,count)"
      ],
      "execution_count": null,
      "outputs": [
        {
          "output_type": "stream",
          "text": [
            "0 37858\n",
            "1 2142\n"
          ],
          "name": "stdout"
        }
      ]
    },
    {
      "cell_type": "code",
      "metadata": {
        "id": "y-LZUFWQU85a"
      },
      "source": [
        "classifiers=[classifier for x in range(len(y_pred2))]\n",
        "import pandas as pd\n",
        "df = pd.DataFrame({\n",
        "    'Classifier': classifiers,\n",
        "    'Hit ID': list_images_name,\n",
        "    'Class': y_pred2\n",
        "})"
      ],
      "execution_count": null,
      "outputs": []
    },
    {
      "cell_type": "code",
      "metadata": {
        "id": "8iAs1dJ1VQ1i"
      },
      "source": [
        "df.to_csv(classifier+'_'+dir+'.csv', index=False)"
      ],
      "execution_count": null,
      "outputs": []
    },
    {
      "cell_type": "code",
      "metadata": {
        "id": "D1MdlHHPVTEz",
        "colab": {
          "base_uri": "https://localhost:8080/"
        },
        "outputId": "faf3ce47-0227-43af-b612-4de0234adfde"
      },
      "source": [
        "print(df.loc[df['Class'] == 0])"
      ],
      "execution_count": null,
      "outputs": [
        {
          "output_type": "stream",
          "text": [
            "          Classifier        Hit ID  Class\n",
            "0      CNN_small_raw   8865764.png      0\n",
            "1      CNN_small_raw   9831150.png      0\n",
            "2      CNN_small_raw  13093513.png      0\n",
            "3      CNN_small_raw  10864746.png      0\n",
            "4      CNN_small_raw  11796285.png      0\n",
            "...              ...           ...    ...\n",
            "39994  CNN_small_raw  16458186.png      0\n",
            "39996  CNN_small_raw   6739339.png      0\n",
            "39997  CNN_small_raw  10232298.png      0\n",
            "39998  CNN_small_raw   9800563.png      0\n",
            "39999  CNN_small_raw  13075167.png      0\n",
            "\n",
            "[37858 rows x 3 columns]\n"
          ],
          "name": "stdout"
        }
      ]
    },
    {
      "cell_type": "code",
      "metadata": {
        "id": "b8TShxD9ZnWe",
        "colab": {
          "base_uri": "https://localhost:8080/",
          "height": 35
        },
        "outputId": "3987e559-fac6-45ae-d7d3-f56e32da5587"
      },
      "source": [
        "list_images_name[39998]"
      ],
      "execution_count": null,
      "outputs": [
        {
          "output_type": "execute_result",
          "data": {
            "application/vnd.google.colaboratory.intrinsic+json": {
              "type": "string"
            },
            "text/plain": [
              "'9800563.png'"
            ]
          },
          "metadata": {
            "tags": []
          },
          "execution_count": 13
        }
      ]
    },
    {
      "cell_type": "code",
      "metadata": {
        "id": "8Hnz69KWaCRc",
        "colab": {
          "base_uri": "https://localhost:8080/",
          "height": 286
        },
        "outputId": "073d7d3b-76b9-45c5-bdc4-e50c5ecb09ca"
      },
      "source": [
        "from matplotlib import pyplot as plt\n",
        "plt.figure()\n",
        "plt.imshow(images[39998])"
      ],
      "execution_count": null,
      "outputs": [
        {
          "output_type": "execute_result",
          "data": {
            "text/plain": [
              "<matplotlib.image.AxesImage at 0x7ff7a0127c10>"
            ]
          },
          "metadata": {
            "tags": []
          },
          "execution_count": 14
        },
        {
          "output_type": "display_data",
          "data": {
            "image/png": "[encoded data removed]",
            "text/plain": [
              "<Figure size 432x288 with 1 Axes>"
            ]
          },
          "metadata": {
            "tags": [],
            "needs_background": "light"
          }
        }
      ]
    },
    {
      "cell_type": "code",
      "metadata": {
        "id": "KeEHElhHab8Z"
      },
      "source": [
        ""
      ],
      "execution_count": null,
      "outputs": []
    }
  ]
}