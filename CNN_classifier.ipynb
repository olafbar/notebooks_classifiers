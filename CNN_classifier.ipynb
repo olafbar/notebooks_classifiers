{
 "cells": [
  {
   "cell_type": "code",
   "execution_count": 1,
   "metadata": {
    "colab": {
     "base_uri": "https://localhost:8080/"
    },
    "id": "Ei6htSY5jvNG",
    "outputId": "41d22dfb-29f2-436a-a4d7-9bf8a847a4a4"
   },
   "outputs": [],
   "source": [
    "import os\n",
    "! git clone https://github.com/olafbar/classifiers.git\n",
    "! pip install mahotas\n"
   ]
  },
  {
   "cell_type": "code",
   "execution_count": null,
   "metadata": {
    "colab": {
     "base_uri": "https://localhost:8080/"
    },
    "id": "CTEpbSzY8t4h",
    "outputId": "beca8586-64b0-4697-e1b1-1271046e6ed6"
   },
   "outputs": [
    {
     "name": "stdout",
     "output_type": "stream",
     "text": [
      "2.5.0\n"
     ]
    }
   ],
   "source": [
    "import tensorflow as tf\n",
    "\n",
    "print(tf.keras.__version__)"
   ]
  },
  {
   "cell_type": "code",
   "execution_count": null,
   "metadata": {
    "colab": {
     "base_uri": "https://localhost:8080/"
    },
    "id": "KUibXsB1JJAP",
    "outputId": "bc609adb-a8ed-42a9-8b9e-12b2d1a9e9d6"
   },
   "outputs": [
    {
     "name": "stdout",
     "output_type": "stream",
     "text": [
      "https://user.credo.science/user-interface/download/images/download.php?name=15.zip -O 15.zip\n"
     ]
    },
    {
     "data": {
      "text/plain": [
       "0"
      ]
     },
     "execution_count": 3,
     "metadata": {
      "tags": []
     },
     "output_type": "execute_result"
    }
   ],
   "source": [
    "import os\n",
    "#########################################################################  \n",
    "dir='15'  # nazwa katalogu z obrazkami\n",
    "classifier='CNN_small_raw'  #nazwa klasyfikatora\n",
    "falki=('raw',)\n",
    "# falki=(0,)  #odpowiedni zbiór falek\n",
    "# falki=(2,)\n",
    "# falki=(20,)\n",
    "# falki=(0,2,) # dla w_0_2\n",
    "# falki=(2,4,6,8,10,,)  # dla w_2_10\n",
    "# falki=(2,4,6,8,10,12,14,16,18,20,)  # dla w_2_20\n",
    "## CNN_small_w0,CNN_small_w2,CNN_small_w0_2,CNN_small_w20,CNN_small_w2_10,CNN_small_w2_20,CNN_small_raw\n",
    "## CNN_big_w0,CNN_big_w2,CNN_big_w0_2,CNN_big_w20,CNN_big_w2_10,CNN_big_w2_20,CNN_big_raw,\n",
    "#########################################################################\n",
    "url='https://user.credo.science/user-interface/download/images/download.php?name='+dir+'.zip -O '+dir+'.zip'\n",
    "print(url)\n",
    "os.system('wget %s' %url)\n",
    "par=dir+' -d '+dir\n",
    "os.system('unzip %s' %par)\n",
    "\n"
   ]
  },
  {
   "cell_type": "code",
   "execution_count": null,
   "metadata": {
    "id": "Wgd7eqowO5HJ"
   },
   "outputs": [],
   "source": [
    "import cv2\n",
    "import glob\n",
    "images=[]\n",
    "list_images_name=[]\n",
    "for img in glob.glob(dir+\"/*.png\"):\n",
    "    n = cv2.imread(img)\n",
    "    img = img.split('/')\n",
    "    list_images_name.append(img[1])\n",
    "    images.append(n)"
   ]
  },
  {
   "cell_type": "code",
   "execution_count": null,
   "metadata": {
    "id": "vAQzZ7aYuQS_"
   },
   "outputs": [],
   "source": [
    "def preprocessData(data, wavelets=(2,), verbose=True):\n",
    "\n",
    "  import mahotas\n",
    "  import numpy as np\n",
    "\n",
    "  print(wavelets)\n",
    "\n",
    "  images = data\n",
    "\n",
    "  features = []\n",
    "  bl_images = []\n",
    "  th_images = []\n",
    "\n",
    "  for img in images:\n",
    "\n",
    "    img = img.astype('int32')\n",
    "\n",
    "    blackwhite=img[:,:,0]+img[:,:,1]+img[:,:,2]\n",
    "    bl_images.append(blackwhite.copy())\n",
    "\n",
    "    threshold = blackwhite.mean() + blackwhite.std() * 5\n",
    "    threshold = threshold if threshold < 100 else 100  \n",
    "\n",
    "    mask = np.where(blackwhite > threshold, 1, 0)\n",
    "    blackwhite = blackwhite * mask\n",
    "\n",
    "    th_images.append(blackwhite.copy())\n",
    "\n",
    "\n",
    "    # Transform using Dx Wavelets to obtain transformed images\n",
    "\n",
    "    layers = {\n",
    "      'raw':img.reshape(60,60,3),  \n",
    "      0: blackwhite.reshape(60,60,1),\n",
    "      2: mahotas.daubechies(blackwhite,'D2').reshape(60,60,1),\n",
    "      4: mahotas.daubechies(blackwhite,'D4').reshape(60,60,1),\n",
    "      6: mahotas.daubechies(blackwhite,'D6').reshape(60,60,1),\n",
    "      8: mahotas.daubechies(blackwhite,'D8').reshape(60,60,1),\n",
    "      10: mahotas.daubechies(blackwhite,'D10').reshape(60,60,1),\n",
    "      12: mahotas.daubechies(blackwhite,'D12').reshape(60,60,1),\n",
    "      14: mahotas.daubechies(blackwhite,'D14').reshape(60,60,1),\n",
    "      16: mahotas.daubechies(blackwhite,'D16').reshape(60,60,1),\n",
    "      18: mahotas.daubechies(blackwhite,'D18').reshape(60,60,1),\n",
    "      20: mahotas.daubechies(blackwhite,'D20').reshape(60,60,1)\n",
    "    }\n",
    "\n",
    "    # tt = np.concatenate((t02, t04, t06, t08), axis=2)\n",
    "    out = np.concatenate(tuple(map(layers.__getitem__, wavelets)), axis=2)\n",
    "\n",
    "    features.append(out)\n",
    "\n",
    "  feature_array = np.array(features)\n",
    "\n",
    "  if verbose:\n",
    "    print(feature_array.shape)\n",
    "   \n",
    "\n",
    "  return (feature_array)\n"
   ]
  },
  {
   "cell_type": "code",
   "execution_count": null,
   "metadata": {
    "colab": {
     "base_uri": "https://localhost:8080/"
    },
    "id": "OCZ8Lb1F6FLV",
    "outputId": "95024990-94f8-4f93-bf5a-ef550f5f1cfd"
   },
   "outputs": [
    {
     "name": "stdout",
     "output_type": "stream",
     "text": [
      "('raw',)\n",
      "(40000, 60, 60, 3)\n"
     ]
    }
   ],
   "source": [
    "feature_array = preprocessData(data=(images), wavelets=falki)\n"
   ]
  },
  {
   "cell_type": "code",
   "execution_count": null,
   "metadata": {
    "id": "dIwQI2yh75JO"
   },
   "outputs": [],
   "source": [
    "from keras.models import load_model\n",
    "model = load_model('classifiers/'+classifier+'.h5')\n"
   ]
  },
  {
   "cell_type": "code",
   "execution_count": null,
   "metadata": {
    "id": "ELGu5Qsg8M0_"
   },
   "outputs": [],
   "source": [
    "import numpy as np\n",
    "y_pred2 = np.argmax(model.predict(feature_array),axis=1)\n"
   ]
  },
  {
   "cell_type": "code",
   "execution_count": null,
   "metadata": {
    "colab": {
     "base_uri": "https://localhost:8080/"
    },
    "id": "CJJ7dsN7U3dV",
    "outputId": "a823bd2d-afd5-4309-f1f8-63a1ddf8ccdf"
   },
   "outputs": [
    {
     "name": "stdout",
     "output_type": "stream",
     "text": [
      "0 37858\n",
      "1 2142\n"
     ]
    }
   ],
   "source": [
    "for i in range(2):\n",
    "    count = sum(map(lambda x : x==i, y_pred2))\n",
    "    print(i,count)"
   ]
  },
  {
   "cell_type": "code",
   "execution_count": null,
   "metadata": {
    "id": "y-LZUFWQU85a"
   },
   "outputs": [],
   "source": [
    "classifiers=[classifier for x in range(len(y_pred2))]\n",
    "import pandas as pd\n",
    "df = pd.DataFrame({\n",
    "    'Classifier': classifiers,\n",
    "    'Hit ID': list_images_name,\n",
    "    'Class': y_pred2\n",
    "})"
   ]
  },
  {
   "cell_type": "code",
   "execution_count": null,
   "metadata": {
    "id": "8iAs1dJ1VQ1i"
   },
   "outputs": [],
   "source": [
    "df.to_csv(classifier+'_'+dir+'.csv', index=False)"
   ]
  },
  {
   "cell_type": "code",
   "execution_count": null,
   "metadata": {
    "colab": {
     "base_uri": "https://localhost:8080/"
    },
    "id": "D1MdlHHPVTEz",
    "outputId": "faf3ce47-0227-43af-b612-4de0234adfde"
   },
   "outputs": [
    {
     "name": "stdout",
     "output_type": "stream",
     "text": [
      "          Classifier        Hit ID  Class\n",
      "0      CNN_small_raw   8865764.png      0\n",
      "1      CNN_small_raw   9831150.png      0\n",
      "2      CNN_small_raw  13093513.png      0\n",
      "3      CNN_small_raw  10864746.png      0\n",
      "4      CNN_small_raw  11796285.png      0\n",
      "...              ...           ...    ...\n",
      "39994  CNN_small_raw  16458186.png      0\n",
      "39996  CNN_small_raw   6739339.png      0\n",
      "39997  CNN_small_raw  10232298.png      0\n",
      "39998  CNN_small_raw   9800563.png      0\n",
      "39999  CNN_small_raw  13075167.png      0\n",
      "\n",
      "[37858 rows x 3 columns]\n"
     ]
    }
   ],
   "source": [
    "print(df.loc[df['Class'] == 0])"
   ]
  },
  {
   "cell_type": "code",
   "execution_count": null,
   "metadata": {
    "colab": {
     "base_uri": "https://localhost:8080/",
     "height": 286
    },
    "id": "8Hnz69KWaCRc",
    "outputId": "073d7d3b-76b9-45c5-bdc4-e50c5ecb09ca"
   },
   "outputs": [],
   "source": [
    "from matplotlib import pyplot as plt\n",
    "plt.figure()\n",
    "plt.imshow(images[39998])"
   ]
  },
  {
   "cell_type": "code",
   "execution_count": null,
   "metadata": {
    "id": "KeEHElhHab8Z"
   },
   "outputs": [],
   "source": []
  }
 ],
 "metadata": {
  "accelerator": "GPU",
  "colab": {
   "collapsed_sections": [],
   "name": "CNN_classifier.ipynb",
   "provenance": []
  },
  "kernelspec": {
   "display_name": "Python 3",
   "language": "python",
   "name": "python3"
  },
  "language_info": {
   "codemirror_mode": {
    "name": "ipython",
    "version": 3
   },
   "file_extension": ".py",
   "mimetype": "text/x-python",
   "name": "python",
   "nbconvert_exporter": "python",
   "pygments_lexer": "ipython3",
   "version": "3.8.5"
  }
 },
 "nbformat": 4,
 "nbformat_minor": 1
}
